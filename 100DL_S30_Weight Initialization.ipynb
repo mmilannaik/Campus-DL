{
  "nbformat": 4,
  "nbformat_minor": 0,
  "metadata": {
    "colab": {
      "provenance": [],
      "include_colab_link": true
    },
    "kernelspec": {
      "name": "python3",
      "display_name": "Python 3"
    },
    "language_info": {
      "name": "python"
    }
  },
  "cells": [
    {
      "cell_type": "markdown",
      "metadata": {
        "id": "view-in-github",
        "colab_type": "text"
      },
      "source": [
        "<a href=\"https://colab.research.google.com/github/mmilannaik/Campus-DL/blob/main/100DL_S30_Weight%20Initialization.ipynb\" target=\"_parent\"><img src=\"https://colab.research.google.com/assets/colab-badge.svg\" alt=\"Open In Colab\"/></a>"
      ]
    },
    {
      "cell_type": "code",
      "execution_count": 1,
      "metadata": {
        "id": "cKVzInXrteyO"
      },
      "outputs": [],
      "source": [
        "import numpy as np\n",
        "import pandas as pd\n",
        "import matplotlib.pyplot as plt"
      ]
    },
    {
      "cell_type": "code",
      "source": [
        "df = pd.read_csv('100DL_S29_ushape.csv')\n",
        "# rename the columns\n",
        "df.rename(columns = {\"3.159499363321345566e-02\":\"X\",\"9.869877579082642072e-01\":\"Y\",\"0.000000000000000000e+00\":\"class\"},inplace = True)"
      ],
      "metadata": {
        "id": "l-CtLegnti3_"
      },
      "execution_count": 4,
      "outputs": []
    },
    {
      "cell_type": "code",
      "source": [
        "df.head()"
      ],
      "metadata": {
        "colab": {
          "base_uri": "https://localhost:8080/",
          "height": 206
        },
        "id": "T9P8j9Ubtt9t",
        "outputId": "90e34ad2-bfc0-45ba-8ec2-e4086644eaf9"
      },
      "execution_count": 5,
      "outputs": [
        {
          "output_type": "execute_result",
          "data": {
            "text/plain": [
              "          X         Y  class\n",
              "0  2.115098 -0.046244    1.0\n",
              "1  0.882490 -0.075756    0.0\n",
              "2 -0.055144 -0.037332    1.0\n",
              "3  0.829545 -0.539321    1.0\n",
              "4  2.112857  0.662084    1.0"
            ],
            "text/html": [
              "\n",
              "  <div id=\"df-466ca641-6707-4c72-9e03-84cb76989f40\" class=\"colab-df-container\">\n",
              "    <div>\n",
              "<style scoped>\n",
              "    .dataframe tbody tr th:only-of-type {\n",
              "        vertical-align: middle;\n",
              "    }\n",
              "\n",
              "    .dataframe tbody tr th {\n",
              "        vertical-align: top;\n",
              "    }\n",
              "\n",
              "    .dataframe thead th {\n",
              "        text-align: right;\n",
              "    }\n",
              "</style>\n",
              "<table border=\"1\" class=\"dataframe\">\n",
              "  <thead>\n",
              "    <tr style=\"text-align: right;\">\n",
              "      <th></th>\n",
              "      <th>X</th>\n",
              "      <th>Y</th>\n",
              "      <th>class</th>\n",
              "    </tr>\n",
              "  </thead>\n",
              "  <tbody>\n",
              "    <tr>\n",
              "      <th>0</th>\n",
              "      <td>2.115098</td>\n",
              "      <td>-0.046244</td>\n",
              "      <td>1.0</td>\n",
              "    </tr>\n",
              "    <tr>\n",
              "      <th>1</th>\n",
              "      <td>0.882490</td>\n",
              "      <td>-0.075756</td>\n",
              "      <td>0.0</td>\n",
              "    </tr>\n",
              "    <tr>\n",
              "      <th>2</th>\n",
              "      <td>-0.055144</td>\n",
              "      <td>-0.037332</td>\n",
              "      <td>1.0</td>\n",
              "    </tr>\n",
              "    <tr>\n",
              "      <th>3</th>\n",
              "      <td>0.829545</td>\n",
              "      <td>-0.539321</td>\n",
              "      <td>1.0</td>\n",
              "    </tr>\n",
              "    <tr>\n",
              "      <th>4</th>\n",
              "      <td>2.112857</td>\n",
              "      <td>0.662084</td>\n",
              "      <td>1.0</td>\n",
              "    </tr>\n",
              "  </tbody>\n",
              "</table>\n",
              "</div>\n",
              "    <div class=\"colab-df-buttons\">\n",
              "\n",
              "  <div class=\"colab-df-container\">\n",
              "    <button class=\"colab-df-convert\" onclick=\"convertToInteractive('df-466ca641-6707-4c72-9e03-84cb76989f40')\"\n",
              "            title=\"Convert this dataframe to an interactive table.\"\n",
              "            style=\"display:none;\">\n",
              "\n",
              "  <svg xmlns=\"http://www.w3.org/2000/svg\" height=\"24px\" viewBox=\"0 -960 960 960\">\n",
              "    <path d=\"M120-120v-720h720v720H120Zm60-500h600v-160H180v160Zm220 220h160v-160H400v160Zm0 220h160v-160H400v160ZM180-400h160v-160H180v160Zm440 0h160v-160H620v160ZM180-180h160v-160H180v160Zm440 0h160v-160H620v160Z\"/>\n",
              "  </svg>\n",
              "    </button>\n",
              "\n",
              "  <style>\n",
              "    .colab-df-container {\n",
              "      display:flex;\n",
              "      gap: 12px;\n",
              "    }\n",
              "\n",
              "    .colab-df-convert {\n",
              "      background-color: #E8F0FE;\n",
              "      border: none;\n",
              "      border-radius: 50%;\n",
              "      cursor: pointer;\n",
              "      display: none;\n",
              "      fill: #1967D2;\n",
              "      height: 32px;\n",
              "      padding: 0 0 0 0;\n",
              "      width: 32px;\n",
              "    }\n",
              "\n",
              "    .colab-df-convert:hover {\n",
              "      background-color: #E2EBFA;\n",
              "      box-shadow: 0px 1px 2px rgba(60, 64, 67, 0.3), 0px 1px 3px 1px rgba(60, 64, 67, 0.15);\n",
              "      fill: #174EA6;\n",
              "    }\n",
              "\n",
              "    .colab-df-buttons div {\n",
              "      margin-bottom: 4px;\n",
              "    }\n",
              "\n",
              "    [theme=dark] .colab-df-convert {\n",
              "      background-color: #3B4455;\n",
              "      fill: #D2E3FC;\n",
              "    }\n",
              "\n",
              "    [theme=dark] .colab-df-convert:hover {\n",
              "      background-color: #434B5C;\n",
              "      box-shadow: 0px 1px 3px 1px rgba(0, 0, 0, 0.15);\n",
              "      filter: drop-shadow(0px 1px 2px rgba(0, 0, 0, 0.3));\n",
              "      fill: #FFFFFF;\n",
              "    }\n",
              "  </style>\n",
              "\n",
              "    <script>\n",
              "      const buttonEl =\n",
              "        document.querySelector('#df-466ca641-6707-4c72-9e03-84cb76989f40 button.colab-df-convert');\n",
              "      buttonEl.style.display =\n",
              "        google.colab.kernel.accessAllowed ? 'block' : 'none';\n",
              "\n",
              "      async function convertToInteractive(key) {\n",
              "        const element = document.querySelector('#df-466ca641-6707-4c72-9e03-84cb76989f40');\n",
              "        const dataTable =\n",
              "          await google.colab.kernel.invokeFunction('convertToInteractive',\n",
              "                                                    [key], {});\n",
              "        if (!dataTable) return;\n",
              "\n",
              "        const docLinkHtml = 'Like what you see? Visit the ' +\n",
              "          '<a target=\"_blank\" href=https://colab.research.google.com/notebooks/data_table.ipynb>data table notebook</a>'\n",
              "          + ' to learn more about interactive tables.';\n",
              "        element.innerHTML = '';\n",
              "        dataTable['output_type'] = 'display_data';\n",
              "        await google.colab.output.renderOutput(dataTable, element);\n",
              "        const docLink = document.createElement('div');\n",
              "        docLink.innerHTML = docLinkHtml;\n",
              "        element.appendChild(docLink);\n",
              "      }\n",
              "    </script>\n",
              "  </div>\n",
              "\n",
              "\n",
              "<div id=\"df-c0559fd8-0fa2-4577-8496-a11503d12d4f\">\n",
              "  <button class=\"colab-df-quickchart\" onclick=\"quickchart('df-c0559fd8-0fa2-4577-8496-a11503d12d4f')\"\n",
              "            title=\"Suggest charts\"\n",
              "            style=\"display:none;\">\n",
              "\n",
              "<svg xmlns=\"http://www.w3.org/2000/svg\" height=\"24px\"viewBox=\"0 0 24 24\"\n",
              "     width=\"24px\">\n",
              "    <g>\n",
              "        <path d=\"M19 3H5c-1.1 0-2 .9-2 2v14c0 1.1.9 2 2 2h14c1.1 0 2-.9 2-2V5c0-1.1-.9-2-2-2zM9 17H7v-7h2v7zm4 0h-2V7h2v10zm4 0h-2v-4h2v4z\"/>\n",
              "    </g>\n",
              "</svg>\n",
              "  </button>\n",
              "\n",
              "<style>\n",
              "  .colab-df-quickchart {\n",
              "      --bg-color: #E8F0FE;\n",
              "      --fill-color: #1967D2;\n",
              "      --hover-bg-color: #E2EBFA;\n",
              "      --hover-fill-color: #174EA6;\n",
              "      --disabled-fill-color: #AAA;\n",
              "      --disabled-bg-color: #DDD;\n",
              "  }\n",
              "\n",
              "  [theme=dark] .colab-df-quickchart {\n",
              "      --bg-color: #3B4455;\n",
              "      --fill-color: #D2E3FC;\n",
              "      --hover-bg-color: #434B5C;\n",
              "      --hover-fill-color: #FFFFFF;\n",
              "      --disabled-bg-color: #3B4455;\n",
              "      --disabled-fill-color: #666;\n",
              "  }\n",
              "\n",
              "  .colab-df-quickchart {\n",
              "    background-color: var(--bg-color);\n",
              "    border: none;\n",
              "    border-radius: 50%;\n",
              "    cursor: pointer;\n",
              "    display: none;\n",
              "    fill: var(--fill-color);\n",
              "    height: 32px;\n",
              "    padding: 0;\n",
              "    width: 32px;\n",
              "  }\n",
              "\n",
              "  .colab-df-quickchart:hover {\n",
              "    background-color: var(--hover-bg-color);\n",
              "    box-shadow: 0 1px 2px rgba(60, 64, 67, 0.3), 0 1px 3px 1px rgba(60, 64, 67, 0.15);\n",
              "    fill: var(--button-hover-fill-color);\n",
              "  }\n",
              "\n",
              "  .colab-df-quickchart-complete:disabled,\n",
              "  .colab-df-quickchart-complete:disabled:hover {\n",
              "    background-color: var(--disabled-bg-color);\n",
              "    fill: var(--disabled-fill-color);\n",
              "    box-shadow: none;\n",
              "  }\n",
              "\n",
              "  .colab-df-spinner {\n",
              "    border: 2px solid var(--fill-color);\n",
              "    border-color: transparent;\n",
              "    border-bottom-color: var(--fill-color);\n",
              "    animation:\n",
              "      spin 1s steps(1) infinite;\n",
              "  }\n",
              "\n",
              "  @keyframes spin {\n",
              "    0% {\n",
              "      border-color: transparent;\n",
              "      border-bottom-color: var(--fill-color);\n",
              "      border-left-color: var(--fill-color);\n",
              "    }\n",
              "    20% {\n",
              "      border-color: transparent;\n",
              "      border-left-color: var(--fill-color);\n",
              "      border-top-color: var(--fill-color);\n",
              "    }\n",
              "    30% {\n",
              "      border-color: transparent;\n",
              "      border-left-color: var(--fill-color);\n",
              "      border-top-color: var(--fill-color);\n",
              "      border-right-color: var(--fill-color);\n",
              "    }\n",
              "    40% {\n",
              "      border-color: transparent;\n",
              "      border-right-color: var(--fill-color);\n",
              "      border-top-color: var(--fill-color);\n",
              "    }\n",
              "    60% {\n",
              "      border-color: transparent;\n",
              "      border-right-color: var(--fill-color);\n",
              "    }\n",
              "    80% {\n",
              "      border-color: transparent;\n",
              "      border-right-color: var(--fill-color);\n",
              "      border-bottom-color: var(--fill-color);\n",
              "    }\n",
              "    90% {\n",
              "      border-color: transparent;\n",
              "      border-bottom-color: var(--fill-color);\n",
              "    }\n",
              "  }\n",
              "</style>\n",
              "\n",
              "  <script>\n",
              "    async function quickchart(key) {\n",
              "      const quickchartButtonEl =\n",
              "        document.querySelector('#' + key + ' button');\n",
              "      quickchartButtonEl.disabled = true;  // To prevent multiple clicks.\n",
              "      quickchartButtonEl.classList.add('colab-df-spinner');\n",
              "      try {\n",
              "        const charts = await google.colab.kernel.invokeFunction(\n",
              "            'suggestCharts', [key], {});\n",
              "      } catch (error) {\n",
              "        console.error('Error during call to suggestCharts:', error);\n",
              "      }\n",
              "      quickchartButtonEl.classList.remove('colab-df-spinner');\n",
              "      quickchartButtonEl.classList.add('colab-df-quickchart-complete');\n",
              "    }\n",
              "    (() => {\n",
              "      let quickchartButtonEl =\n",
              "        document.querySelector('#df-c0559fd8-0fa2-4577-8496-a11503d12d4f button');\n",
              "      quickchartButtonEl.style.display =\n",
              "        google.colab.kernel.accessAllowed ? 'block' : 'none';\n",
              "    })();\n",
              "  </script>\n",
              "</div>\n",
              "\n",
              "    </div>\n",
              "  </div>\n"
            ],
            "application/vnd.google.colaboratory.intrinsic+json": {
              "type": "dataframe",
              "variable_name": "df",
              "summary": "{\n  \"name\": \"df\",\n  \"rows\": 99,\n  \"fields\": [\n    {\n      \"column\": \"X\",\n      \"properties\": {\n        \"dtype\": \"number\",\n        \"std\": 0.8943130566096507,\n        \"min\": -1.318500344394381,\n        \"max\": 2.181371683049025,\n        \"num_unique_values\": 99,\n        \"samples\": [\n          0.1273314190904385,\n          0.6417403675063451,\n          0.21862323352500593\n        ],\n        \"semantic_type\": \"\",\n        \"description\": \"\"\n      }\n    },\n    {\n      \"column\": \"Y\",\n      \"properties\": {\n        \"dtype\": \"number\",\n        \"std\": 0.5909086142970595,\n        \"min\": -1.0357020680498332,\n        \"max\": 1.5718993127141032,\n        \"num_unique_values\": 99,\n        \"samples\": [\n          -0.3796548967118949,\n          -0.39369468370639576,\n          -0.6525211867631453\n        ],\n        \"semantic_type\": \"\",\n        \"description\": \"\"\n      }\n    },\n    {\n      \"column\": \"class\",\n      \"properties\": {\n        \"dtype\": \"number\",\n        \"std\": 0.5025189076296059,\n        \"min\": 0.0,\n        \"max\": 1.0,\n        \"num_unique_values\": 2,\n        \"samples\": [\n          0.0,\n          1.0\n        ],\n        \"semantic_type\": \"\",\n        \"description\": \"\"\n      }\n    }\n  ]\n}"
            }
          },
          "metadata": {},
          "execution_count": 5
        }
      ]
    },
    {
      "cell_type": "code",
      "source": [
        "plt.scatter(df['X'],df['Y'],c=df['class'])"
      ],
      "metadata": {
        "colab": {
          "base_uri": "https://localhost:8080/",
          "height": 447
        },
        "id": "ZuYqGD_mtuQG",
        "outputId": "e356e7d9-662c-4c9c-abe2-59505244621c"
      },
      "execution_count": 6,
      "outputs": [
        {
          "output_type": "execute_result",
          "data": {
            "text/plain": [
              "<matplotlib.collections.PathCollection at 0x7d6aafb39a20>"
            ]
          },
          "metadata": {},
          "execution_count": 6
        },
        {
          "output_type": "display_data",
          "data": {
            "text/plain": [
              "<Figure size 640x480 with 1 Axes>"
            ],
            "image/png": "[encoded data removed]"
          },
          "metadata": {}
        }
      ]
    },
    {
      "cell_type": "code",
      "source": [
        "X = df.iloc[:,0:2].values\n",
        "y = df.iloc[:,-1].values"
      ],
      "metadata": {
        "id": "nwXuHnqhtwEJ"
      },
      "execution_count": 7,
      "outputs": []
    },
    {
      "cell_type": "code",
      "source": [
        "import tensorflow\n",
        "from tensorflow import keras\n",
        "from keras import Sequential\n",
        "from keras.layers import Dense"
      ],
      "metadata": {
        "id": "ylDVIM8Ltx0H"
      },
      "execution_count": 8,
      "outputs": []
    },
    {
      "cell_type": "code",
      "source": [
        "model = Sequential()\n",
        "\n",
        "model.add(Dense(10,activation='relu',input_dim=2,kernel_initializer='he_normal'))\n",
        "model.add(Dense(10,activation='relu',kernel_initializer='he_normal'))\n",
        "model.add(Dense(10,activation='relu',kernel_initializer='he_normal'))\n",
        "model.add(Dense(10,activation='relu',kernel_initializer='he_normal'))\n",
        "model.add(Dense(1,activation='sigmoid'))\n",
        "\n",
        "model.summary()"
      ],
      "metadata": {
        "colab": {
          "base_uri": "https://localhost:8080/",
          "height": 341
        },
        "id": "id8rhK5OtzVX",
        "outputId": "02823adf-040a-42c8-8cc7-b9f66db4c5d1"
      },
      "execution_count": 9,
      "outputs": [
        {
          "output_type": "stream",
          "name": "stderr",
          "text": [
            "/usr/local/lib/python3.10/dist-packages/keras/src/layers/core/dense.py:87: UserWarning: Do not pass an `input_shape`/`input_dim` argument to a layer. When using Sequential models, prefer using an `Input(shape)` object as the first layer in the model instead.\n",
            "  super().__init__(activity_regularizer=activity_regularizer, **kwargs)\n"
          ]
        },
        {
          "output_type": "display_data",
          "data": {
            "text/plain": [
              "\u001b[1mModel: \"sequential\"\u001b[0m\n"
            ],
            "text/html": [
              "<pre style=\"white-space:pre;overflow-x:auto;line-height:normal;font-family:Menlo,'DejaVu Sans Mono',consolas,'Courier New',monospace\"><span style=\"font-weight: bold\">Model: \"sequential\"</span>\n",
              "</pre>\n"
            ]
          },
          "metadata": {}
        },
        {
          "output_type": "display_data",
          "data": {
            "text/plain": [
              "┏━━━━━━━━━━━━━━━━━━━━━━━━━━━━━━━━━━━━━━┳━━━━━━━━━━━━━━━━━━━━━━━━━━━━━┳━━━━━━━━━━━━━━━━━┓\n",
              "┃\u001b[1m \u001b[0m\u001b[1mLayer (type)                        \u001b[0m\u001b[1m \u001b[0m┃\u001b[1m \u001b[0m\u001b[1mOutput Shape               \u001b[0m\u001b[1m \u001b[0m┃\u001b[1m \u001b[0m\u001b[1m        Param #\u001b[0m\u001b[1m \u001b[0m┃\n",
              "┡━━━━━━━━━━━━━━━━━━━━━━━━━━━━━━━━━━━━━━╇━━━━━━━━━━━━━━━━━━━━━━━━━━━━━╇━━━━━━━━━━━━━━━━━┩\n",
              "│ dense (\u001b[38;5;33mDense\u001b[0m)                        │ (\u001b[38;5;45mNone\u001b[0m, \u001b[38;5;34m10\u001b[0m)                  │              \u001b[38;5;34m30\u001b[0m │\n",
              "├──────────────────────────────────────┼─────────────────────────────┼─────────────────┤\n",
              "│ dense_1 (\u001b[38;5;33mDense\u001b[0m)                      │ (\u001b[38;5;45mNone\u001b[0m, \u001b[38;5;34m10\u001b[0m)                  │             \u001b[38;5;34m110\u001b[0m │\n",
              "├──────────────────────────────────────┼─────────────────────────────┼─────────────────┤\n",
              "│ dense_2 (\u001b[38;5;33mDense\u001b[0m)                      │ (\u001b[38;5;45mNone\u001b[0m, \u001b[38;5;34m10\u001b[0m)                  │             \u001b[38;5;34m110\u001b[0m │\n",
              "├──────────────────────────────────────┼─────────────────────────────┼─────────────────┤\n",
              "│ dense_3 (\u001b[38;5;33mDense\u001b[0m)                      │ (\u001b[38;5;45mNone\u001b[0m, \u001b[38;5;34m10\u001b[0m)                  │             \u001b[38;5;34m110\u001b[0m │\n",
              "├──────────────────────────────────────┼─────────────────────────────┼─────────────────┤\n",
              "│ dense_4 (\u001b[38;5;33mDense\u001b[0m)                      │ (\u001b[38;5;45mNone\u001b[0m, \u001b[38;5;34m1\u001b[0m)                   │              \u001b[38;5;34m11\u001b[0m │\n",
              "└──────────────────────────────────────┴─────────────────────────────┴─────────────────┘\n"
            ],
            "text/html": [
              "<pre style=\"white-space:pre;overflow-x:auto;line-height:normal;font-family:Menlo,'DejaVu Sans Mono',consolas,'Courier New',monospace\">┏━━━━━━━━━━━━━━━━━━━━━━━━━━━━━━━━━━━━━━┳━━━━━━━━━━━━━━━━━━━━━━━━━━━━━┳━━━━━━━━━━━━━━━━━┓\n",
              "┃<span style=\"font-weight: bold\"> Layer (type)                         </span>┃<span style=\"font-weight: bold\"> Output Shape                </span>┃<span style=\"font-weight: bold\">         Param # </span>┃\n",
              "┡━━━━━━━━━━━━━━━━━━━━━━━━━━━━━━━━━━━━━━╇━━━━━━━━━━━━━━━━━━━━━━━━━━━━━╇━━━━━━━━━━━━━━━━━┩\n",
              "│ dense (<span style=\"color: #0087ff; text-decoration-color: #0087ff\">Dense</span>)                        │ (<span style=\"color: #00d7ff; text-decoration-color: #00d7ff\">None</span>, <span style=\"color: #00af00; text-decoration-color: #00af00\">10</span>)                  │              <span style=\"color: #00af00; text-decoration-color: #00af00\">30</span> │\n",
              "├──────────────────────────────────────┼─────────────────────────────┼─────────────────┤\n",
              "│ dense_1 (<span style=\"color: #0087ff; text-decoration-color: #0087ff\">Dense</span>)                      │ (<span style=\"color: #00d7ff; text-decoration-color: #00d7ff\">None</span>, <span style=\"color: #00af00; text-decoration-color: #00af00\">10</span>)                  │             <span style=\"color: #00af00; text-decoration-color: #00af00\">110</span> │\n",
              "├──────────────────────────────────────┼─────────────────────────────┼─────────────────┤\n",
              "│ dense_2 (<span style=\"color: #0087ff; text-decoration-color: #0087ff\">Dense</span>)                      │ (<span style=\"color: #00d7ff; text-decoration-color: #00d7ff\">None</span>, <span style=\"color: #00af00; text-decoration-color: #00af00\">10</span>)                  │             <span style=\"color: #00af00; text-decoration-color: #00af00\">110</span> │\n",
              "├──────────────────────────────────────┼─────────────────────────────┼─────────────────┤\n",
              "│ dense_3 (<span style=\"color: #0087ff; text-decoration-color: #0087ff\">Dense</span>)                      │ (<span style=\"color: #00d7ff; text-decoration-color: #00d7ff\">None</span>, <span style=\"color: #00af00; text-decoration-color: #00af00\">10</span>)                  │             <span style=\"color: #00af00; text-decoration-color: #00af00\">110</span> │\n",
              "├──────────────────────────────────────┼─────────────────────────────┼─────────────────┤\n",
              "│ dense_4 (<span style=\"color: #0087ff; text-decoration-color: #0087ff\">Dense</span>)                      │ (<span style=\"color: #00d7ff; text-decoration-color: #00d7ff\">None</span>, <span style=\"color: #00af00; text-decoration-color: #00af00\">1</span>)                   │              <span style=\"color: #00af00; text-decoration-color: #00af00\">11</span> │\n",
              "└──────────────────────────────────────┴─────────────────────────────┴─────────────────┘\n",
              "</pre>\n"
            ]
          },
          "metadata": {}
        },
        {
          "output_type": "display_data",
          "data": {
            "text/plain": [
              "\u001b[1m Total params: \u001b[0m\u001b[38;5;34m371\u001b[0m (1.45 KB)\n"
            ],
            "text/html": [
              "<pre style=\"white-space:pre;overflow-x:auto;line-height:normal;font-family:Menlo,'DejaVu Sans Mono',consolas,'Courier New',monospace\"><span style=\"font-weight: bold\"> Total params: </span><span style=\"color: #00af00; text-decoration-color: #00af00\">371</span> (1.45 KB)\n",
              "</pre>\n"
            ]
          },
          "metadata": {}
        },
        {
          "output_type": "display_data",
          "data": {
            "text/plain": [
              "\u001b[1m Trainable params: \u001b[0m\u001b[38;5;34m371\u001b[0m (1.45 KB)\n"
            ],
            "text/html": [
              "<pre style=\"white-space:pre;overflow-x:auto;line-height:normal;font-family:Menlo,'DejaVu Sans Mono',consolas,'Courier New',monospace\"><span style=\"font-weight: bold\"> Trainable params: </span><span style=\"color: #00af00; text-decoration-color: #00af00\">371</span> (1.45 KB)\n",
              "</pre>\n"
            ]
          },
          "metadata": {}
        },
        {
          "output_type": "display_data",
          "data": {
            "text/plain": [
              "\u001b[1m Non-trainable params: \u001b[0m\u001b[38;5;34m0\u001b[0m (0.00 B)\n"
            ],
            "text/html": [
              "<pre style=\"white-space:pre;overflow-x:auto;line-height:normal;font-family:Menlo,'DejaVu Sans Mono',consolas,'Courier New',monospace\"><span style=\"font-weight: bold\"> Non-trainable params: </span><span style=\"color: #00af00; text-decoration-color: #00af00\">0</span> (0.00 B)\n",
              "</pre>\n"
            ]
          },
          "metadata": {}
        }
      ]
    },
    {
      "cell_type": "code",
      "source": [
        "model.get_weights()"
      ],
      "metadata": {
        "colab": {
          "base_uri": "https://localhost:8080/"
        },
        "id": "YjST2L1qt1UP",
        "outputId": "0c65bb78-de61-48d9-88ce-838e43d5cfda"
      },
      "execution_count": 10,
      "outputs": [
        {
          "output_type": "execute_result",
          "data": {
            "text/plain": [
              "[array([[-0.81252795, -0.44276586, -0.351429  ,  0.21134192,  0.32206172,\n",
              "          0.79158616,  0.42380196, -0.9728969 , -0.68234485, -0.00786284],\n",
              "        [ 1.2375227 , -0.90331745, -0.9788036 , -1.9281094 ,  0.6276522 ,\n",
              "         -0.79800427, -0.04654148,  1.4068533 , -0.02668336, -0.37937522]],\n",
              "       dtype=float32),\n",
              " array([0., 0., 0., 0., 0., 0., 0., 0., 0., 0.], dtype=float32),\n",
              " array([[ 0.34241992, -0.10227531, -0.6248251 , -0.17134443,  0.30794072,\n",
              "          0.078371  , -0.22202143, -0.9308181 ,  0.10321935, -0.6521956 ],\n",
              "        [ 0.57749635,  0.5500037 ,  0.30094764, -0.3859302 , -0.91199607,\n",
              "         -0.84311235,  0.06543983,  0.05424759,  0.33055487,  0.3755988 ],\n",
              "        [-0.5435405 , -0.53982645,  0.0954909 ,  0.04160044, -1.0120512 ,\n",
              "         -0.34862432,  0.23412102,  0.7676849 , -0.28360453,  0.55231696],\n",
              "        [-0.11020461,  0.10938852,  0.22951849,  0.6401277 , -0.06065523,\n",
              "         -0.36258647, -0.30145723,  0.86265147,  0.71894515,  0.49843827],\n",
              "        [ 0.58290875,  0.9096442 , -0.4996894 , -0.12575139, -0.17959577,\n",
              "          0.34965378,  0.11443333, -0.8847011 , -0.76427156, -0.29296944],\n",
              "        [-0.36046433,  0.41348216,  0.3080311 ,  0.8008138 ,  0.0949645 ,\n",
              "          0.409454  ,  0.73895067, -0.15423512,  0.9026479 , -0.15301488],\n",
              "        [ 0.11237051, -0.01234409, -0.66467524, -0.72879595,  0.31831285,\n",
              "          0.34116304, -0.34764293, -0.21079005, -0.32573637, -0.10601253],\n",
              "        [ 0.09974021, -0.23941338, -0.14484404, -0.41577244, -0.17334615,\n",
              "         -0.04667341, -0.34141254, -0.03506568, -0.3089205 ,  0.52880883],\n",
              "        [-0.43414888,  0.20470282,  0.7051594 , -0.05663279, -0.9907063 ,\n",
              "          0.9884175 , -0.59166163,  0.02082472,  0.22286466,  0.16152547],\n",
              "        [ 0.59340227,  0.44654885,  0.04705758,  0.29826245,  0.5466626 ,\n",
              "         -0.21872793,  0.09773459,  0.758584  , -0.14314507,  0.94294554]],\n",
              "       dtype=float32),\n",
              " array([0., 0., 0., 0., 0., 0., 0., 0., 0., 0.], dtype=float32),\n",
              " array([[ 0.22420387,  0.63433075, -0.44430798,  0.3939432 , -0.05271049,\n",
              "         -0.15285663,  0.6556274 , -0.67638826,  0.60579413, -0.39973387],\n",
              "        [-0.772511  , -0.22479612, -0.19143748,  0.49615487, -0.74067795,\n",
              "          0.13668182,  0.02936719,  0.1351783 , -0.43372548, -0.4759116 ],\n",
              "        [-0.03997439,  0.42799628, -0.8006469 ,  0.13976371, -0.56189346,\n",
              "         -0.05017081,  0.28095922, -0.49429587,  0.39163417, -0.58979374],\n",
              "        [-0.8792878 , -0.48022696, -0.09442626,  0.8046043 ,  0.54777616,\n",
              "         -0.6504514 , -0.26010296, -0.60915023, -0.26805142,  0.19022037],\n",
              "        [ 0.05842403,  0.2853809 ,  0.20388415,  0.57106644, -0.194683  ,\n",
              "         -0.63292104,  0.6905198 ,  0.06850892, -0.10695416, -0.749044  ],\n",
              "        [-0.4298491 ,  0.50566405, -0.3880193 , -0.08714981, -0.05820298,\n",
              "          0.9634549 ,  0.21702738, -0.2694555 , -0.66979176,  0.01603123],\n",
              "        [ 0.23940478,  0.29592928, -0.92589587,  0.47314775,  0.58610356,\n",
              "          0.23810993, -0.19783019, -0.5202101 ,  0.02774784, -0.26856124],\n",
              "        [-0.00968161,  0.41305164,  0.2113137 ,  0.15636423, -0.04384561,\n",
              "         -0.20279595, -0.18588594,  0.27856264,  0.3863778 , -0.05148601],\n",
              "        [-0.49095434,  0.4278023 ,  0.81525654, -0.20456484, -0.3465372 ,\n",
              "         -0.5169623 , -0.61999816,  0.31301028, -0.45621064,  0.4376491 ],\n",
              "        [-0.17352587, -0.43939373, -0.02971823,  0.53499806, -0.15708919,\n",
              "          0.30602938,  0.49221942,  0.9345438 ,  0.16380543,  0.4417392 ]],\n",
              "       dtype=float32),\n",
              " array([0., 0., 0., 0., 0., 0., 0., 0., 0., 0.], dtype=float32),\n",
              " array([[-0.8896972 ,  0.7355954 , -0.7977462 , -0.12159733, -0.2107983 ,\n",
              "          0.05007835,  0.1397065 ,  0.53065526,  0.33743176, -0.2907181 ],\n",
              "        [ 0.47165155,  0.48189723,  0.08162155,  0.7883164 , -0.806174  ,\n",
              "          0.00280242, -0.34794933, -0.14597921,  0.8104153 , -0.4706359 ],\n",
              "        [ 0.38613775, -0.02169946,  0.52335006, -0.5596151 ,  0.309258  ,\n",
              "         -0.149345  , -0.3785139 ,  0.24438941, -0.22421095, -0.7835408 ],\n",
              "        [ 0.06081763,  0.33708742,  0.20312178, -0.23257004, -0.71291554,\n",
              "         -0.06072982,  0.11883081,  0.04105136,  0.09774259,  0.00593085],\n",
              "        [ 0.05202894, -0.508434  ,  0.70993376, -0.27061287,  0.6683321 ,\n",
              "         -0.6284322 , -0.83655375, -0.01851755, -0.6044774 ,  0.7815635 ],\n",
              "        [-0.03560815, -0.22025436,  0.5677915 , -0.36286792,  0.15183684,\n",
              "          0.07533255, -0.7805225 , -0.6458997 ,  0.21397074,  0.5954634 ],\n",
              "        [-0.16255026, -0.61054635, -0.66311276, -0.19220716, -0.4252276 ,\n",
              "         -0.31494808,  0.71905935, -0.22477314, -0.09605969, -0.6201794 ],\n",
              "        [-0.66117764, -0.16010903,  0.2599143 ,  0.22288187, -0.5365015 ,\n",
              "         -0.4584277 ,  0.09278139,  0.71165794, -0.3682415 ,  0.10740904],\n",
              "        [-0.37674284, -0.19763146, -0.837808  , -0.9916512 ,  0.5788088 ,\n",
              "         -0.55918026,  0.21960999,  0.20193234, -0.6285819 , -0.39592195],\n",
              "        [ 0.4700186 ,  0.17511378, -1.0061243 , -0.8681886 , -0.16516763,\n",
              "         -0.595792  , -0.5431868 , -0.29778942,  0.7527327 ,  0.48585963]],\n",
              "       dtype=float32),\n",
              " array([0., 0., 0., 0., 0., 0., 0., 0., 0., 0.], dtype=float32),\n",
              " array([[-0.4126381 ],\n",
              "        [ 0.34122115],\n",
              "        [ 0.57088464],\n",
              "        [-0.29796934],\n",
              "        [ 0.14236426],\n",
              "        [ 0.07332796],\n",
              "        [-0.5229553 ],\n",
              "        [ 0.21316916],\n",
              "        [ 0.25677103],\n",
              "        [-0.7218393 ]], dtype=float32),\n",
              " array([0.], dtype=float32)]"
            ]
          },
          "metadata": {},
          "execution_count": 10
        }
      ]
    },
    {
      "cell_type": "code",
      "source": [
        "initial_weights = model.get_weights()"
      ],
      "metadata": {
        "id": "SNnRle4Dt4bc"
      },
      "execution_count": 11,
      "outputs": []
    },
    {
      "cell_type": "code",
      "source": [
        "initial_weights[0] = np.random.randn(2,10)*np.sqrt(1/2)\n",
        "initial_weights[1] = np.zeros(model.get_weights()[1].shape)\n",
        "initial_weights[2] = np.random.randn(10,10)*np.sqrt(1/10)\n",
        "initial_weights[3] = np.zeros(model.get_weights()[3].shape)\n",
        "initial_weights[4] = np.random.randn(10,10)*np.sqrt(1/10)\n",
        "initial_weights[5] = np.zeros(model.get_weights()[5].shape)\n",
        "initial_weights[6] = np.random.randn(10,10)*np.sqrt(1/10)\n",
        "initial_weights[7] = np.zeros(model.get_weights()[7].shape)\n",
        "initial_weights[8] = np.random.randn(10,1)*np.sqrt(1/10)\n",
        "initial_weights[9] = np.zeros(model.get_weights()[9].shape)"
      ],
      "metadata": {
        "id": "T6mklkSot6GI"
      },
      "execution_count": 12,
      "outputs": []
    },
    {
      "cell_type": "code",
      "source": [
        "model.set_weights(initial_weights)"
      ],
      "metadata": {
        "id": "cnoX9yK8ueEM"
      },
      "execution_count": 13,
      "outputs": []
    },
    {
      "cell_type": "code",
      "source": [
        "model.get_weights()"
      ],
      "metadata": {
        "colab": {
          "base_uri": "https://localhost:8080/"
        },
        "id": "1guey_KUujTP",
        "outputId": "b77aa787-47dd-45bf-eb55-d3ad5ba03a06"
      },
      "execution_count": 14,
      "outputs": [
        {
          "output_type": "execute_result",
          "data": {
            "text/plain": [
              "[array([[-1.4230069e+00,  3.2249162e-01,  5.4651845e-01, -7.0737171e-01,\n",
              "          5.6896675e-01,  1.7880564e+00,  8.4492850e-01, -2.8407261e-01,\n",
              "         -1.1060424e+00,  6.3406193e-01],\n",
              "        [ 1.3500969e-01,  1.0123041e+00, -8.2170837e-02,  6.7202741e-01,\n",
              "          1.2351936e+00,  1.0322411e-01, -4.8777941e-04,  1.6674302e+00,\n",
              "          1.9540983e-01,  5.9293056e-01]], dtype=float32),\n",
              " array([0., 0., 0., 0., 0., 0., 0., 0., 0., 0.], dtype=float32),\n",
              " array([[-0.02190976, -0.06635886,  0.09154235,  0.17633992, -0.5668058 ,\n",
              "          0.18608838, -0.27964944,  0.3067839 , -0.15088405, -0.13214836],\n",
              "        [ 0.22040309,  0.5369577 , -0.02010773,  0.32727686,  0.13434531,\n",
              "         -0.09727331, -0.00704152, -0.44937894,  0.19906458,  0.20002824],\n",
              "        [-0.5650585 ,  0.38019687,  0.44965246,  0.12489579,  0.32003805,\n",
              "         -0.3563205 ,  0.09221608,  0.146436  , -0.7167727 , -0.22539806],\n",
              "        [ 0.22474034, -0.48926556,  0.02214169, -0.00674827, -0.28244272,\n",
              "          0.05319121,  0.26206094,  0.33224392, -0.5649948 , -0.2501832 ],\n",
              "        [-0.13342966, -0.28284478,  0.07550084,  0.58358705, -0.32410133,\n",
              "          0.3441848 ,  0.12455707, -0.19579501,  0.5290435 ,  0.07300703],\n",
              "        [-0.07396827, -0.00859923, -0.15412937,  0.28286836, -0.577452  ,\n",
              "          0.39677685,  0.24470176,  0.19287683,  0.35667005, -0.18400908],\n",
              "        [-0.14447103, -0.38621935, -0.01597985,  0.02389646, -0.05925257,\n",
              "          0.04068651, -0.60287315,  0.05987355,  0.1558698 ,  0.14671177],\n",
              "        [-0.18367314,  0.23074807,  0.31078866,  0.00458153,  0.46742895,\n",
              "          0.16982283,  0.10672662,  0.12268657, -0.57903767,  0.23955365],\n",
              "        [-0.12103245, -0.13028832,  0.18826434,  0.2825083 , -0.05913774,\n",
              "          0.4536427 , -0.09167504, -0.28577715, -0.36837965, -0.03869065],\n",
              "        [-0.25258926,  0.02212632, -0.1760239 ,  0.42004105,  0.38529623,\n",
              "          0.14886655,  0.3078913 ,  0.00265627, -0.01686683, -0.29422584]],\n",
              "       dtype=float32),\n",
              " array([0., 0., 0., 0., 0., 0., 0., 0., 0., 0.], dtype=float32),\n",
              " array([[-0.02167082, -0.3093568 , -0.12822543, -0.24089633, -0.1111275 ,\n",
              "          0.1473383 ,  0.272031  ,  0.68881977, -0.30328766,  0.46418935],\n",
              "        [ 0.11964834,  0.44409925,  0.02970315, -0.08150139, -0.01547943,\n",
              "          0.3577983 , -0.59016955,  0.15245713, -0.2714832 , -0.54924595],\n",
              "        [-0.09824308,  0.2514346 ,  0.11498291, -0.12505151, -0.2800749 ,\n",
              "          0.03367542,  0.30584458, -0.10096171,  0.04210705,  0.13541241],\n",
              "        [ 0.05994127, -0.8603513 ,  0.33924884,  0.6207726 , -0.18086691,\n",
              "         -0.46764785,  0.1855584 ,  0.31714022,  0.16934721, -0.4418366 ],\n",
              "        [-0.11987833, -0.22774431,  0.37439683, -0.23741823,  0.4757483 ,\n",
              "          0.47210345,  0.36906913,  0.08465368,  0.09542486,  0.34640315],\n",
              "        [ 0.4132329 ,  0.20335546, -0.46814024,  0.11641262, -0.12711135,\n",
              "         -0.45929363,  0.12480426, -0.5728054 , -0.29537314,  0.6637401 ],\n",
              "        [ 0.24470323, -0.32895264, -0.10751308, -0.4757455 ,  0.19842172,\n",
              "         -0.34024033,  0.05842645, -0.06816803, -0.5686365 , -0.11802887],\n",
              "        [ 0.3358803 , -0.100029  , -0.27806675,  0.36632603,  0.2090783 ,\n",
              "         -0.32604298,  0.07197574, -0.23965323,  0.31273386,  0.47688794],\n",
              "        [-0.05517726,  0.24086319,  0.730617  ,  0.09532107, -0.42007497,\n",
              "         -0.21285965, -0.34579623, -0.01618264, -0.14116907, -0.04882541],\n",
              "        [ 0.7424358 , -0.2201083 , -0.35802472, -0.04646355, -0.14575583,\n",
              "         -0.1058336 , -0.12414387, -0.1305011 ,  0.28536332, -0.12392239]],\n",
              "       dtype=float32),\n",
              " array([0., 0., 0., 0., 0., 0., 0., 0., 0., 0.], dtype=float32),\n",
              " array([[-0.12205951,  0.02311388, -0.10026131, -0.5340173 ,  0.23148997,\n",
              "         -0.75024754,  0.30377245, -0.14272542,  0.51406354, -0.10689519],\n",
              "        [ 0.26463336,  0.17895661,  0.1319287 , -0.11349395, -0.14925626,\n",
              "          0.12055693, -0.19448416,  0.26980868, -0.15958177,  0.06305134],\n",
              "        [ 0.39393252, -0.05598653,  0.506039  , -0.20867339, -0.15790921,\n",
              "          0.24974172, -0.548302  ,  0.10924738,  0.13208312,  0.5020643 ],\n",
              "        [-0.00699664,  0.34644282, -0.18810022,  0.26856318,  0.22497535,\n",
              "          0.2283588 , -0.12832968, -0.04248609,  0.09175295, -0.23370868],\n",
              "        [ 0.4617398 , -0.30752704, -0.15444027,  0.1758358 , -0.2904944 ,\n",
              "         -0.4899154 ,  0.0441167 ,  0.14700553,  0.02046751, -0.09130204],\n",
              "        [ 0.1984175 , -0.16829674, -0.11128694,  0.1640262 ,  0.08102288,\n",
              "          0.06117968,  0.18277317,  0.13022149, -0.33281657, -0.8779451 ],\n",
              "        [ 0.2868009 ,  0.28623658, -0.12693606, -0.05739237,  0.3063306 ,\n",
              "          0.594443  , -0.07823042,  0.8978793 ,  0.48234153, -0.13837206],\n",
              "        [-0.02151019,  0.669528  , -0.45176017, -0.1447823 ,  0.02641319,\n",
              "         -0.14497937,  0.00991119, -0.01368463, -0.03847874,  0.4775342 ],\n",
              "        [ 0.2242618 , -0.53233737, -0.05083778, -0.03750461, -0.37295768,\n",
              "         -0.5134698 ,  0.07081792,  0.12926483, -0.06520151, -0.18704581],\n",
              "        [-0.11884203,  0.0465539 ,  0.29425067, -0.15770006, -0.18124408,\n",
              "         -0.11064023, -0.6493363 ,  0.04035164,  0.0017248 , -0.6611733 ]],\n",
              "       dtype=float32),\n",
              " array([0., 0., 0., 0., 0., 0., 0., 0., 0., 0.], dtype=float32),\n",
              " array([[ 0.59675604],\n",
              "        [ 0.13787177],\n",
              "        [-0.3120605 ],\n",
              "        [ 0.5730079 ],\n",
              "        [-0.14287144],\n",
              "        [-0.06829534],\n",
              "        [ 0.04894865],\n",
              "        [ 0.08774301],\n",
              "        [ 0.03291877],\n",
              "        [ 0.06851756]], dtype=float32),\n",
              " array([0.], dtype=float32)]"
            ]
          },
          "metadata": {},
          "execution_count": 14
        }
      ]
    },
    {
      "cell_type": "code",
      "source": [
        "model.compile(loss='binary_crossentropy',optimizer='adam',metrics=['accuracy'])"
      ],
      "metadata": {
        "id": "bjAyhD8mulGG"
      },
      "execution_count": 15,
      "outputs": []
    },
    {
      "cell_type": "code",
      "source": [
        "history = model.fit(X,y,epochs=100,validation_split=0.2)"
      ],
      "metadata": {
        "colab": {
          "base_uri": "https://localhost:8080/"
        },
        "id": "H1wa0jCaun8z",
        "outputId": "60def2eb-9e77-4d30-a20b-0de1368805d8"
      },
      "execution_count": 16,
      "outputs": [
        {
          "output_type": "stream",
          "name": "stdout",
          "text": [
            "Epoch 1/100\n",
            "\u001b[1m3/3\u001b[0m \u001b[32m━━━━━━━━━━━━━━━━━━━━\u001b[0m\u001b[37m\u001b[0m \u001b[1m2s\u001b[0m 104ms/step - accuracy: 0.4993 - loss: 0.6970 - val_accuracy: 0.4500 - val_loss: 0.6974\n",
            "Epoch 2/100\n",
            "\u001b[1m3/3\u001b[0m \u001b[32m━━━━━━━━━━━━━━━━━━━━\u001b[0m\u001b[37m\u001b[0m \u001b[1m0s\u001b[0m 19ms/step - accuracy: 0.4788 - loss: 0.6911 - val_accuracy: 0.4500 - val_loss: 0.6954\n",
            "Epoch 3/100\n",
            "\u001b[1m3/3\u001b[0m \u001b[32m━━━━━━━━━━━━━━━━━━━━\u001b[0m\u001b[37m\u001b[0m \u001b[1m0s\u001b[0m 16ms/step - accuracy: 0.4607 - loss: 0.6900 - val_accuracy: 0.4500 - val_loss: 0.6938\n",
            "Epoch 4/100\n",
            "\u001b[1m3/3\u001b[0m \u001b[32m━━━━━━━━━━━━━━━━━━━━\u001b[0m\u001b[37m\u001b[0m \u001b[1m0s\u001b[0m 15ms/step - accuracy: 0.4373 - loss: 0.6879 - val_accuracy: 0.4000 - val_loss: 0.6920\n",
            "Epoch 5/100\n",
            "\u001b[1m3/3\u001b[0m \u001b[32m━━━━━━━━━━━━━━━━━━━━\u001b[0m\u001b[37m\u001b[0m \u001b[1m0s\u001b[0m 16ms/step - accuracy: 0.5061 - loss: 0.6843 - val_accuracy: 0.5000 - val_loss: 0.6905\n",
            "Epoch 6/100\n",
            "\u001b[1m3/3\u001b[0m \u001b[32m━━━━━━━━━━━━━━━━━━━━\u001b[0m\u001b[37m\u001b[0m \u001b[1m0s\u001b[0m 16ms/step - accuracy: 0.5212 - loss: 0.6836 - val_accuracy: 0.5000 - val_loss: 0.6889\n",
            "Epoch 7/100\n",
            "\u001b[1m3/3\u001b[0m \u001b[32m━━━━━━━━━━━━━━━━━━━━\u001b[0m\u001b[37m\u001b[0m \u001b[1m0s\u001b[0m 15ms/step - accuracy: 0.4997 - loss: 0.6855 - val_accuracy: 0.5500 - val_loss: 0.6868\n",
            "Epoch 8/100\n",
            "\u001b[1m3/3\u001b[0m \u001b[32m━━━━━━━━━━━━━━━━━━━━\u001b[0m\u001b[37m\u001b[0m \u001b[1m0s\u001b[0m 16ms/step - accuracy: 0.6085 - loss: 0.6786 - val_accuracy: 0.5000 - val_loss: 0.6842\n",
            "Epoch 9/100\n",
            "\u001b[1m3/3\u001b[0m \u001b[32m━━━━━━━━━━━━━━━━━━━━\u001b[0m\u001b[37m\u001b[0m \u001b[1m0s\u001b[0m 16ms/step - accuracy: 0.6343 - loss: 0.6713 - val_accuracy: 0.5500 - val_loss: 0.6813\n",
            "Epoch 10/100\n",
            "\u001b[1m3/3\u001b[0m \u001b[32m━━━━━━━━━━━━━━━━━━━━\u001b[0m\u001b[37m\u001b[0m \u001b[1m0s\u001b[0m 20ms/step - accuracy: 0.6290 - loss: 0.6761 - val_accuracy: 0.5500 - val_loss: 0.6781\n",
            "Epoch 11/100\n",
            "\u001b[1m3/3\u001b[0m \u001b[32m━━━━━━━━━━━━━━━━━━━━\u001b[0m\u001b[37m\u001b[0m \u001b[1m0s\u001b[0m 16ms/step - accuracy: 0.6651 - loss: 0.6706 - val_accuracy: 0.6000 - val_loss: 0.6743\n",
            "Epoch 12/100\n",
            "\u001b[1m3/3\u001b[0m \u001b[32m━━━━━━━━━━━━━━━━━━━━\u001b[0m\u001b[37m\u001b[0m \u001b[1m0s\u001b[0m 16ms/step - accuracy: 0.6665 - loss: 0.6673 - val_accuracy: 0.6000 - val_loss: 0.6703\n",
            "Epoch 13/100\n",
            "\u001b[1m3/3\u001b[0m \u001b[32m━━━━━━━━━━━━━━━━━━━━\u001b[0m\u001b[37m\u001b[0m \u001b[1m0s\u001b[0m 16ms/step - accuracy: 0.6846 - loss: 0.6613 - val_accuracy: 0.6000 - val_loss: 0.6662\n",
            "Epoch 14/100\n",
            "\u001b[1m3/3\u001b[0m \u001b[32m━━━━━━━━━━━━━━━━━━━━\u001b[0m\u001b[37m\u001b[0m \u001b[1m0s\u001b[0m 16ms/step - accuracy: 0.6479 - loss: 0.6625 - val_accuracy: 0.6500 - val_loss: 0.6621\n",
            "Epoch 15/100\n",
            "\u001b[1m3/3\u001b[0m \u001b[32m━━━━━━━━━━━━━━━━━━━━\u001b[0m\u001b[37m\u001b[0m \u001b[1m0s\u001b[0m 17ms/step - accuracy: 0.7114 - loss: 0.6549 - val_accuracy: 0.6500 - val_loss: 0.6577\n",
            "Epoch 16/100\n",
            "\u001b[1m3/3\u001b[0m \u001b[32m━━━━━━━━━━━━━━━━━━━━\u001b[0m\u001b[37m\u001b[0m \u001b[1m0s\u001b[0m 20ms/step - accuracy: 0.6919 - loss: 0.6521 - val_accuracy: 0.6500 - val_loss: 0.6527\n",
            "Epoch 17/100\n",
            "\u001b[1m3/3\u001b[0m \u001b[32m━━━━━━━━━━━━━━━━━━━━\u001b[0m\u001b[37m\u001b[0m \u001b[1m0s\u001b[0m 20ms/step - accuracy: 0.7060 - loss: 0.6486 - val_accuracy: 0.7000 - val_loss: 0.6474\n",
            "Epoch 18/100\n",
            "\u001b[1m3/3\u001b[0m \u001b[32m━━━━━━━━━━━━━━━━━━━━\u001b[0m\u001b[37m\u001b[0m \u001b[1m0s\u001b[0m 16ms/step - accuracy: 0.7021 - loss: 0.6434 - val_accuracy: 0.7000 - val_loss: 0.6415\n",
            "Epoch 19/100\n",
            "\u001b[1m3/3\u001b[0m \u001b[32m━━━━━━━━━━━━━━━━━━━━\u001b[0m\u001b[37m\u001b[0m \u001b[1m0s\u001b[0m 16ms/step - accuracy: 0.6865 - loss: 0.6390 - val_accuracy: 0.8000 - val_loss: 0.6352\n",
            "Epoch 20/100\n",
            "\u001b[1m3/3\u001b[0m \u001b[32m━━━━━━━━━━━━━━━━━━━━\u001b[0m\u001b[37m\u001b[0m \u001b[1m0s\u001b[0m 17ms/step - accuracy: 0.7319 - loss: 0.6240 - val_accuracy: 0.8000 - val_loss: 0.6284\n",
            "Epoch 21/100\n",
            "\u001b[1m3/3\u001b[0m \u001b[32m━━━━━━━━━━━━━━━━━━━━\u001b[0m\u001b[37m\u001b[0m \u001b[1m0s\u001b[0m 16ms/step - accuracy: 0.7226 - loss: 0.6285 - val_accuracy: 0.8000 - val_loss: 0.6217\n",
            "Epoch 22/100\n",
            "\u001b[1m3/3\u001b[0m \u001b[32m━━━━━━━━━━━━━━━━━━━━\u001b[0m\u001b[37m\u001b[0m \u001b[1m0s\u001b[0m 16ms/step - accuracy: 0.7806 - loss: 0.6230 - val_accuracy: 0.8000 - val_loss: 0.6146\n",
            "Epoch 23/100\n",
            "\u001b[1m3/3\u001b[0m \u001b[32m━━━━━━━━━━━━━━━━━━━━\u001b[0m\u001b[37m\u001b[0m \u001b[1m0s\u001b[0m 16ms/step - accuracy: 0.8080 - loss: 0.5998 - val_accuracy: 0.8000 - val_loss: 0.6073\n",
            "Epoch 24/100\n",
            "\u001b[1m3/3\u001b[0m \u001b[32m━━━━━━━━━━━━━━━━━━━━\u001b[0m\u001b[37m\u001b[0m \u001b[1m0s\u001b[0m 16ms/step - accuracy: 0.7845 - loss: 0.6003 - val_accuracy: 0.8500 - val_loss: 0.6005\n",
            "Epoch 25/100\n",
            "\u001b[1m3/3\u001b[0m \u001b[32m━━━━━━━━━━━━━━━━━━━━\u001b[0m\u001b[37m\u001b[0m \u001b[1m0s\u001b[0m 16ms/step - accuracy: 0.7767 - loss: 0.5977 - val_accuracy: 0.8500 - val_loss: 0.5942\n",
            "Epoch 26/100\n",
            "\u001b[1m3/3\u001b[0m \u001b[32m━━━━━━━━━━━━━━━━━━━━\u001b[0m\u001b[37m\u001b[0m \u001b[1m0s\u001b[0m 16ms/step - accuracy: 0.7689 - loss: 0.5959 - val_accuracy: 0.8500 - val_loss: 0.5875\n",
            "Epoch 27/100\n",
            "\u001b[1m3/3\u001b[0m \u001b[32m━━━━━━━━━━━━━━━━━━━━\u001b[0m\u001b[37m\u001b[0m \u001b[1m0s\u001b[0m 20ms/step - accuracy: 0.7635 - loss: 0.5974 - val_accuracy: 0.8500 - val_loss: 0.5806\n",
            "Epoch 28/100\n",
            "\u001b[1m3/3\u001b[0m \u001b[32m━━━━━━━━━━━━━━━━━━━━\u001b[0m\u001b[37m\u001b[0m \u001b[1m0s\u001b[0m 16ms/step - accuracy: 0.7894 - loss: 0.5868 - val_accuracy: 0.8500 - val_loss: 0.5732\n",
            "Epoch 29/100\n",
            "\u001b[1m3/3\u001b[0m \u001b[32m━━━━━━━━━━━━━━━━━━━━\u001b[0m\u001b[37m\u001b[0m \u001b[1m0s\u001b[0m 16ms/step - accuracy: 0.8113 - loss: 0.5785 - val_accuracy: 0.8500 - val_loss: 0.5656\n",
            "Epoch 30/100\n",
            "\u001b[1m3/3\u001b[0m \u001b[32m━━━━━━━━━━━━━━━━━━━━\u001b[0m\u001b[37m\u001b[0m \u001b[1m0s\u001b[0m 15ms/step - accuracy: 0.8035 - loss: 0.5893 - val_accuracy: 0.8500 - val_loss: 0.5581\n",
            "Epoch 31/100\n",
            "\u001b[1m3/3\u001b[0m \u001b[32m━━━━━━━━━━━━━━━━━━━━\u001b[0m\u001b[37m\u001b[0m \u001b[1m0s\u001b[0m 16ms/step - accuracy: 0.7996 - loss: 0.5605 - val_accuracy: 0.8500 - val_loss: 0.5502\n",
            "Epoch 32/100\n",
            "\u001b[1m3/3\u001b[0m \u001b[32m━━━━━━━━━━━━━━━━━━━━\u001b[0m\u001b[37m\u001b[0m \u001b[1m0s\u001b[0m 15ms/step - accuracy: 0.7981 - loss: 0.5793 - val_accuracy: 0.8500 - val_loss: 0.5423\n",
            "Epoch 33/100\n",
            "\u001b[1m3/3\u001b[0m \u001b[32m━━━━━━━━━━━━━━━━━━━━\u001b[0m\u001b[37m\u001b[0m \u001b[1m0s\u001b[0m 16ms/step - accuracy: 0.8215 - loss: 0.5509 - val_accuracy: 0.8500 - val_loss: 0.5339\n",
            "Epoch 34/100\n",
            "\u001b[1m3/3\u001b[0m \u001b[32m━━━━━━━━━━━━━━━━━━━━\u001b[0m\u001b[37m\u001b[0m \u001b[1m0s\u001b[0m 16ms/step - accuracy: 0.7942 - loss: 0.5561 - val_accuracy: 0.8500 - val_loss: 0.5253\n",
            "Epoch 35/100\n",
            "\u001b[1m3/3\u001b[0m \u001b[32m━━━━━━━━━━━━━━━━━━━━\u001b[0m\u001b[37m\u001b[0m \u001b[1m0s\u001b[0m 16ms/step - accuracy: 0.7879 - loss: 0.5575 - val_accuracy: 0.8500 - val_loss: 0.5165\n",
            "Epoch 36/100\n",
            "\u001b[1m3/3\u001b[0m \u001b[32m━━━━━━━━━━━━━━━━━━━━\u001b[0m\u001b[37m\u001b[0m \u001b[1m0s\u001b[0m 16ms/step - accuracy: 0.8191 - loss: 0.5267 - val_accuracy: 0.8500 - val_loss: 0.5075\n",
            "Epoch 37/100\n",
            "\u001b[1m3/3\u001b[0m \u001b[32m━━━━━━━━━━━━━━━━━━━━\u001b[0m\u001b[37m\u001b[0m \u001b[1m0s\u001b[0m 16ms/step - accuracy: 0.8230 - loss: 0.5125 - val_accuracy: 0.8500 - val_loss: 0.4983\n",
            "Epoch 38/100\n",
            "\u001b[1m3/3\u001b[0m \u001b[32m━━━━━━━━━━━━━━━━━━━━\u001b[0m\u001b[37m\u001b[0m \u001b[1m0s\u001b[0m 16ms/step - accuracy: 0.8089 - loss: 0.5134 - val_accuracy: 0.8500 - val_loss: 0.4890\n",
            "Epoch 39/100\n",
            "\u001b[1m3/3\u001b[0m \u001b[32m━━━━━━━━━━━━━━━━━━━━\u001b[0m\u001b[37m\u001b[0m \u001b[1m0s\u001b[0m 16ms/step - accuracy: 0.7933 - loss: 0.5213 - val_accuracy: 0.8500 - val_loss: 0.4799\n",
            "Epoch 40/100\n",
            "\u001b[1m3/3\u001b[0m \u001b[32m━━━━━━━━━━━━━━━━━━━━\u001b[0m\u001b[37m\u001b[0m \u001b[1m0s\u001b[0m 16ms/step - accuracy: 0.8020 - loss: 0.5038 - val_accuracy: 0.8500 - val_loss: 0.4704\n",
            "Epoch 41/100\n",
            "\u001b[1m3/3\u001b[0m \u001b[32m━━━━━━━━━━━━━━━━━━━━\u001b[0m\u001b[37m\u001b[0m \u001b[1m0s\u001b[0m 17ms/step - accuracy: 0.8567 - loss: 0.4612 - val_accuracy: 0.8500 - val_loss: 0.4606\n",
            "Epoch 42/100\n",
            "\u001b[1m3/3\u001b[0m \u001b[32m━━━━━━━━━━━━━━━━━━━━\u001b[0m\u001b[37m\u001b[0m \u001b[1m0s\u001b[0m 20ms/step - accuracy: 0.8318 - loss: 0.4899 - val_accuracy: 0.9000 - val_loss: 0.4512\n",
            "Epoch 43/100\n",
            "\u001b[1m3/3\u001b[0m \u001b[32m━━━━━━━━━━━━━━━━━━━━\u001b[0m\u001b[37m\u001b[0m \u001b[1m0s\u001b[0m 20ms/step - accuracy: 0.8357 - loss: 0.4872 - val_accuracy: 0.9000 - val_loss: 0.4411\n",
            "Epoch 44/100\n",
            "\u001b[1m3/3\u001b[0m \u001b[32m━━━━━━━━━━━━━━━━━━━━\u001b[0m\u001b[37m\u001b[0m \u001b[1m0s\u001b[0m 16ms/step - accuracy: 0.8435 - loss: 0.4677 - val_accuracy: 0.9000 - val_loss: 0.4303\n",
            "Epoch 45/100\n",
            "\u001b[1m3/3\u001b[0m \u001b[32m━━━━━━━━━━━━━━━━━━━━\u001b[0m\u001b[37m\u001b[0m \u001b[1m0s\u001b[0m 16ms/step - accuracy: 0.8342 - loss: 0.4725 - val_accuracy: 0.9000 - val_loss: 0.4199\n",
            "Epoch 46/100\n",
            "\u001b[1m3/3\u001b[0m \u001b[32m━━━━━━━━━━━━━━━━━━━━\u001b[0m\u001b[37m\u001b[0m \u001b[1m0s\u001b[0m 16ms/step - accuracy: 0.8498 - loss: 0.4507 - val_accuracy: 0.9000 - val_loss: 0.4094\n",
            "Epoch 47/100\n",
            "\u001b[1m3/3\u001b[0m \u001b[32m━━━━━━━━━━━━━━━━━━━━\u001b[0m\u001b[37m\u001b[0m \u001b[1m0s\u001b[0m 16ms/step - accuracy: 0.8889 - loss: 0.4181 - val_accuracy: 0.9000 - val_loss: 0.3989\n",
            "Epoch 48/100\n",
            "\u001b[1m3/3\u001b[0m \u001b[32m━━━━━━━━━━━━━━━━━━━━\u001b[0m\u001b[37m\u001b[0m \u001b[1m0s\u001b[0m 16ms/step - accuracy: 0.8576 - loss: 0.4280 - val_accuracy: 0.9000 - val_loss: 0.3882\n",
            "Epoch 49/100\n",
            "\u001b[1m3/3\u001b[0m \u001b[32m━━━━━━━━━━━━━━━━━━━━\u001b[0m\u001b[37m\u001b[0m \u001b[1m0s\u001b[0m 16ms/step - accuracy: 0.8655 - loss: 0.4117 - val_accuracy: 0.9000 - val_loss: 0.3779\n",
            "Epoch 50/100\n",
            "\u001b[1m3/3\u001b[0m \u001b[32m━━━━━━━━━━━━━━━━━━━━\u001b[0m\u001b[37m\u001b[0m \u001b[1m0s\u001b[0m 16ms/step - accuracy: 0.8616 - loss: 0.4081 - val_accuracy: 0.9000 - val_loss: 0.3675\n",
            "Epoch 51/100\n",
            "\u001b[1m3/3\u001b[0m \u001b[32m━━━━━━━━━━━━━━━━━━━━\u001b[0m\u001b[37m\u001b[0m \u001b[1m0s\u001b[0m 22ms/step - accuracy: 0.8694 - loss: 0.4074 - val_accuracy: 0.9000 - val_loss: 0.3579\n",
            "Epoch 52/100\n",
            "\u001b[1m3/3\u001b[0m \u001b[32m━━━━━━━━━━━━━━━━━━━━\u001b[0m\u001b[37m\u001b[0m \u001b[1m0s\u001b[0m 16ms/step - accuracy: 0.8381 - loss: 0.4201 - val_accuracy: 0.9500 - val_loss: 0.3489\n",
            "Epoch 53/100\n",
            "\u001b[1m3/3\u001b[0m \u001b[32m━━━━━━━━━━━━━━━━━━━━\u001b[0m\u001b[37m\u001b[0m \u001b[1m0s\u001b[0m 16ms/step - accuracy: 0.8498 - loss: 0.4063 - val_accuracy: 0.9500 - val_loss: 0.3400\n",
            "Epoch 54/100\n",
            "\u001b[1m3/3\u001b[0m \u001b[32m━━━━━━━━━━━━━━━━━━━━\u001b[0m\u001b[37m\u001b[0m \u001b[1m0s\u001b[0m 16ms/step - accuracy: 0.8420 - loss: 0.3972 - val_accuracy: 0.9500 - val_loss: 0.3317\n",
            "Epoch 55/100\n",
            "\u001b[1m3/3\u001b[0m \u001b[32m━━━━━━━━━━━━━━━━━━━━\u001b[0m\u001b[37m\u001b[0m \u001b[1m0s\u001b[0m 17ms/step - accuracy: 0.8694 - loss: 0.3838 - val_accuracy: 0.9500 - val_loss: 0.3240\n",
            "Epoch 56/100\n",
            "\u001b[1m3/3\u001b[0m \u001b[32m━━━━━━━━━━━━━━━━━━━━\u001b[0m\u001b[37m\u001b[0m \u001b[1m0s\u001b[0m 20ms/step - accuracy: 0.8616 - loss: 0.3782 - val_accuracy: 0.9500 - val_loss: 0.3168\n",
            "Epoch 57/100\n",
            "\u001b[1m3/3\u001b[0m \u001b[32m━━━━━━━━━━━━━━━━━━━━\u001b[0m\u001b[37m\u001b[0m \u001b[1m0s\u001b[0m 18ms/step - accuracy: 0.8264 - loss: 0.4197 - val_accuracy: 0.9500 - val_loss: 0.3110\n",
            "Epoch 58/100\n",
            "\u001b[1m3/3\u001b[0m \u001b[32m━━━━━━━━━━━━━━━━━━━━\u001b[0m\u001b[37m\u001b[0m \u001b[1m0s\u001b[0m 16ms/step - accuracy: 0.8483 - loss: 0.3982 - val_accuracy: 0.9500 - val_loss: 0.3053\n",
            "Epoch 59/100\n",
            "\u001b[1m3/3\u001b[0m \u001b[32m━━━━━━━━━━━━━━━━━━━━\u001b[0m\u001b[37m\u001b[0m \u001b[1m0s\u001b[0m 15ms/step - accuracy: 0.8601 - loss: 0.3861 - val_accuracy: 0.9000 - val_loss: 0.2987\n",
            "Epoch 60/100\n",
            "\u001b[1m3/3\u001b[0m \u001b[32m━━━━━━━━━━━━━━━━━━━━\u001b[0m\u001b[37m\u001b[0m \u001b[1m0s\u001b[0m 17ms/step - accuracy: 0.8405 - loss: 0.3965 - val_accuracy: 0.9000 - val_loss: 0.2923\n",
            "Epoch 61/100\n",
            "\u001b[1m3/3\u001b[0m \u001b[32m━━━━━━━━━━━━━━━━━━━━\u001b[0m\u001b[37m\u001b[0m \u001b[1m0s\u001b[0m 16ms/step - accuracy: 0.8757 - loss: 0.3429 - val_accuracy: 0.9500 - val_loss: 0.2852\n",
            "Epoch 62/100\n",
            "\u001b[1m3/3\u001b[0m \u001b[32m━━━━━━━━━━━━━━━━━━━━\u001b[0m\u001b[37m\u001b[0m \u001b[1m0s\u001b[0m 16ms/step - accuracy: 0.8679 - loss: 0.3570 - val_accuracy: 0.9500 - val_loss: 0.2788\n",
            "Epoch 63/100\n",
            "\u001b[1m3/3\u001b[0m \u001b[32m━━━━━━━━━━━━━━━━━━━━\u001b[0m\u001b[37m\u001b[0m \u001b[1m0s\u001b[0m 16ms/step - accuracy: 0.8718 - loss: 0.3578 - val_accuracy: 0.9500 - val_loss: 0.2733\n",
            "Epoch 64/100\n",
            "\u001b[1m3/3\u001b[0m \u001b[32m━━━━━━━━━━━━━━━━━━━━\u001b[0m\u001b[37m\u001b[0m \u001b[1m0s\u001b[0m 17ms/step - accuracy: 0.8796 - loss: 0.3344 - val_accuracy: 0.9500 - val_loss: 0.2679\n",
            "Epoch 65/100\n",
            "\u001b[1m3/3\u001b[0m \u001b[32m━━━━━━━━━━━━━━━━━━━━\u001b[0m\u001b[37m\u001b[0m \u001b[1m0s\u001b[0m 16ms/step - accuracy: 0.8523 - loss: 0.3918 - val_accuracy: 0.9000 - val_loss: 0.2652\n",
            "Epoch 66/100\n",
            "\u001b[1m3/3\u001b[0m \u001b[32m━━━━━━━━━━━━━━━━━━━━\u001b[0m\u001b[37m\u001b[0m \u001b[1m0s\u001b[0m 18ms/step - accuracy: 0.8640 - loss: 0.3628 - val_accuracy: 0.9000 - val_loss: 0.2619\n",
            "Epoch 67/100\n",
            "\u001b[1m3/3\u001b[0m \u001b[32m━━━━━━━━━━━━━━━━━━━━\u001b[0m\u001b[37m\u001b[0m \u001b[1m0s\u001b[0m 18ms/step - accuracy: 0.8796 - loss: 0.3373 - val_accuracy: 0.9000 - val_loss: 0.2582\n",
            "Epoch 68/100\n",
            "\u001b[1m3/3\u001b[0m \u001b[32m━━━━━━━━━━━━━━━━━━━━\u001b[0m\u001b[37m\u001b[0m \u001b[1m0s\u001b[0m 22ms/step - accuracy: 0.8562 - loss: 0.3475 - val_accuracy: 0.9000 - val_loss: 0.2514\n",
            "Epoch 69/100\n",
            "\u001b[1m3/3\u001b[0m \u001b[32m━━━━━━━━━━━━━━━━━━━━\u001b[0m\u001b[37m\u001b[0m \u001b[1m0s\u001b[0m 16ms/step - accuracy: 0.8796 - loss: 0.3295 - val_accuracy: 0.9000 - val_loss: 0.2450\n",
            "Epoch 70/100\n",
            "\u001b[1m3/3\u001b[0m \u001b[32m━━━━━━━━━━━━━━━━━━━━\u001b[0m\u001b[37m\u001b[0m \u001b[1m0s\u001b[0m 16ms/step - accuracy: 0.8405 - loss: 0.3694 - val_accuracy: 0.9000 - val_loss: 0.2406\n",
            "Epoch 71/100\n",
            "\u001b[1m3/3\u001b[0m \u001b[32m━━━━━━━━━━━━━━━━━━━━\u001b[0m\u001b[37m\u001b[0m \u001b[1m0s\u001b[0m 16ms/step - accuracy: 0.8366 - loss: 0.3893 - val_accuracy: 0.9000 - val_loss: 0.2365\n",
            "Epoch 72/100\n",
            "\u001b[1m3/3\u001b[0m \u001b[32m━━━━━━━━━━━━━━━━━━━━\u001b[0m\u001b[37m\u001b[0m \u001b[1m0s\u001b[0m 16ms/step - accuracy: 0.8405 - loss: 0.3840 - val_accuracy: 0.9000 - val_loss: 0.2338\n",
            "Epoch 73/100\n",
            "\u001b[1m3/3\u001b[0m \u001b[32m━━━━━━━━━━━━━━━━━━━━\u001b[0m\u001b[37m\u001b[0m \u001b[1m0s\u001b[0m 16ms/step - accuracy: 0.8718 - loss: 0.3294 - val_accuracy: 0.9000 - val_loss: 0.2302\n",
            "Epoch 74/100\n",
            "\u001b[1m3/3\u001b[0m \u001b[32m━━━━━━━━━━━━━━━━━━━━\u001b[0m\u001b[37m\u001b[0m \u001b[1m0s\u001b[0m 18ms/step - accuracy: 0.8718 - loss: 0.3147 - val_accuracy: 0.9000 - val_loss: 0.2270\n",
            "Epoch 75/100\n",
            "\u001b[1m3/3\u001b[0m \u001b[32m━━━━━━━━━━━━━━━━━━━━\u001b[0m\u001b[37m\u001b[0m \u001b[1m0s\u001b[0m 17ms/step - accuracy: 0.8718 - loss: 0.3021 - val_accuracy: 0.9000 - val_loss: 0.2248\n",
            "Epoch 76/100\n",
            "\u001b[1m3/3\u001b[0m \u001b[32m━━━━━━━━━━━━━━━━━━━━\u001b[0m\u001b[37m\u001b[0m \u001b[1m0s\u001b[0m 22ms/step - accuracy: 0.8523 - loss: 0.3522 - val_accuracy: 0.9000 - val_loss: 0.2241\n",
            "Epoch 77/100\n",
            "\u001b[1m3/3\u001b[0m \u001b[32m━━━━━━━━━━━━━━━━━━━━\u001b[0m\u001b[37m\u001b[0m \u001b[1m0s\u001b[0m 16ms/step - accuracy: 0.8420 - loss: 0.3331 - val_accuracy: 0.9000 - val_loss: 0.2234\n",
            "Epoch 78/100\n",
            "\u001b[1m3/3\u001b[0m \u001b[32m━━━━━━━━━━━━━━━━━━━━\u001b[0m\u001b[37m\u001b[0m \u001b[1m0s\u001b[0m 16ms/step - accuracy: 0.8537 - loss: 0.3133 - val_accuracy: 0.9000 - val_loss: 0.2206\n",
            "Epoch 79/100\n",
            "\u001b[1m3/3\u001b[0m \u001b[32m━━━━━━━━━━━━━━━━━━━━\u001b[0m\u001b[37m\u001b[0m \u001b[1m0s\u001b[0m 26ms/step - accuracy: 0.8576 - loss: 0.3126 - val_accuracy: 0.9000 - val_loss: 0.2192\n",
            "Epoch 80/100\n",
            "\u001b[1m3/3\u001b[0m \u001b[32m━━━━━━━━━━━━━━━━━━━━\u001b[0m\u001b[37m\u001b[0m \u001b[1m0s\u001b[0m 21ms/step - accuracy: 0.8381 - loss: 0.3398 - val_accuracy: 0.9500 - val_loss: 0.2164\n",
            "Epoch 81/100\n",
            "\u001b[1m3/3\u001b[0m \u001b[32m━━━━━━━━━━━━━━━━━━━━\u001b[0m\u001b[37m\u001b[0m \u001b[1m0s\u001b[0m 16ms/step - accuracy: 0.8733 - loss: 0.2897 - val_accuracy: 0.9500 - val_loss: 0.2129\n",
            "Epoch 82/100\n",
            "\u001b[1m3/3\u001b[0m \u001b[32m━━━━━━━━━━━━━━━━━━━━\u001b[0m\u001b[37m\u001b[0m \u001b[1m0s\u001b[0m 16ms/step - accuracy: 0.8811 - loss: 0.2843 - val_accuracy: 0.9500 - val_loss: 0.2107\n",
            "Epoch 83/100\n",
            "\u001b[1m3/3\u001b[0m \u001b[32m━━━━━━━━━━━━━━━━━━━━\u001b[0m\u001b[37m\u001b[0m \u001b[1m0s\u001b[0m 17ms/step - accuracy: 0.8498 - loss: 0.3101 - val_accuracy: 0.9500 - val_loss: 0.2081\n",
            "Epoch 84/100\n",
            "\u001b[1m3/3\u001b[0m \u001b[32m━━━━━━━━━━━━━━━━━━━━\u001b[0m\u001b[37m\u001b[0m \u001b[1m0s\u001b[0m 16ms/step - accuracy: 0.8498 - loss: 0.3419 - val_accuracy: 0.9500 - val_loss: 0.2049\n",
            "Epoch 85/100\n",
            "\u001b[1m3/3\u001b[0m \u001b[32m━━━━━━━━━━━━━━━━━━━━\u001b[0m\u001b[37m\u001b[0m \u001b[1m0s\u001b[0m 16ms/step - accuracy: 0.8757 - loss: 0.2800 - val_accuracy: 0.9500 - val_loss: 0.2020\n",
            "Epoch 86/100\n",
            "\u001b[1m3/3\u001b[0m \u001b[32m━━━━━━━━━━━━━━━━━━━━\u001b[0m\u001b[37m\u001b[0m \u001b[1m0s\u001b[0m 16ms/step - accuracy: 0.8640 - loss: 0.3169 - val_accuracy: 0.9500 - val_loss: 0.1991\n",
            "Epoch 87/100\n",
            "\u001b[1m3/3\u001b[0m \u001b[32m━━━━━━━━━━━━━━━━━━━━\u001b[0m\u001b[37m\u001b[0m \u001b[1m0s\u001b[0m 16ms/step - accuracy: 0.8640 - loss: 0.3276 - val_accuracy: 0.9500 - val_loss: 0.1977\n",
            "Epoch 88/100\n",
            "\u001b[1m3/3\u001b[0m \u001b[32m━━━━━━━━━━━━━━━━━━━━\u001b[0m\u001b[37m\u001b[0m \u001b[1m0s\u001b[0m 16ms/step - accuracy: 0.8225 - loss: 0.3675 - val_accuracy: 0.9500 - val_loss: 0.1969\n",
            "Epoch 89/100\n",
            "\u001b[1m3/3\u001b[0m \u001b[32m━━━━━━━━━━━━━━━━━━━━\u001b[0m\u001b[37m\u001b[0m \u001b[1m0s\u001b[0m 19ms/step - accuracy: 0.8420 - loss: 0.3215 - val_accuracy: 0.9500 - val_loss: 0.1939\n",
            "Epoch 90/100\n",
            "\u001b[1m3/3\u001b[0m \u001b[32m━━━━━━━━━━━━━━━━━━━━\u001b[0m\u001b[37m\u001b[0m \u001b[1m0s\u001b[0m 17ms/step - accuracy: 0.8562 - loss: 0.3283 - val_accuracy: 0.9500 - val_loss: 0.1899\n",
            "Epoch 91/100\n",
            "\u001b[1m3/3\u001b[0m \u001b[32m━━━━━━━━━━━━━━━━━━━━\u001b[0m\u001b[37m\u001b[0m \u001b[1m0s\u001b[0m 19ms/step - accuracy: 0.8796 - loss: 0.2886 - val_accuracy: 0.9500 - val_loss: 0.1864\n",
            "Epoch 92/100\n",
            "\u001b[1m3/3\u001b[0m \u001b[32m━━━━━━━━━━━━━━━━━━━━\u001b[0m\u001b[37m\u001b[0m \u001b[1m0s\u001b[0m 21ms/step - accuracy: 0.8742 - loss: 0.2996 - val_accuracy: 0.9500 - val_loss: 0.1857\n",
            "Epoch 93/100\n",
            "\u001b[1m3/3\u001b[0m \u001b[32m━━━━━━━━━━━━━━━━━━━━\u001b[0m\u001b[37m\u001b[0m \u001b[1m0s\u001b[0m 29ms/step - accuracy: 0.8859 - loss: 0.2909 - val_accuracy: 0.9500 - val_loss: 0.1869\n",
            "Epoch 94/100\n",
            "\u001b[1m3/3\u001b[0m \u001b[32m━━━━━━━━━━━━━━━━━━━━\u001b[0m\u001b[37m\u001b[0m \u001b[1m0s\u001b[0m 16ms/step - accuracy: 0.8562 - loss: 0.3292 - val_accuracy: 0.9500 - val_loss: 0.1903\n",
            "Epoch 95/100\n",
            "\u001b[1m3/3\u001b[0m \u001b[32m━━━━━━━━━━━━━━━━━━━━\u001b[0m\u001b[37m\u001b[0m \u001b[1m0s\u001b[0m 16ms/step - accuracy: 0.8616 - loss: 0.3160 - val_accuracy: 0.9500 - val_loss: 0.1919\n",
            "Epoch 96/100\n",
            "\u001b[1m3/3\u001b[0m \u001b[32m━━━━━━━━━━━━━━━━━━━━\u001b[0m\u001b[37m\u001b[0m \u001b[1m0s\u001b[0m 17ms/step - accuracy: 0.8601 - loss: 0.3175 - val_accuracy: 0.9500 - val_loss: 0.1903\n",
            "Epoch 97/100\n",
            "\u001b[1m3/3\u001b[0m \u001b[32m━━━━━━━━━━━━━━━━━━━━\u001b[0m\u001b[37m\u001b[0m \u001b[1m0s\u001b[0m 16ms/step - accuracy: 0.8835 - loss: 0.2875 - val_accuracy: 0.9500 - val_loss: 0.1885\n",
            "Epoch 98/100\n",
            "\u001b[1m3/3\u001b[0m \u001b[32m━━━━━━━━━━━━━━━━━━━━\u001b[0m\u001b[37m\u001b[0m \u001b[1m0s\u001b[0m 17ms/step - accuracy: 0.8640 - loss: 0.2993 - val_accuracy: 0.9500 - val_loss: 0.1859\n",
            "Epoch 99/100\n",
            "\u001b[1m3/3\u001b[0m \u001b[32m━━━━━━━━━━━━━━━━━━━━\u001b[0m\u001b[37m\u001b[0m \u001b[1m0s\u001b[0m 16ms/step - accuracy: 0.8601 - loss: 0.2865 - val_accuracy: 0.9500 - val_loss: 0.1798\n",
            "Epoch 100/100\n",
            "\u001b[1m3/3\u001b[0m \u001b[32m━━━━━━━━━━━━━━━━━━━━\u001b[0m\u001b[37m\u001b[0m \u001b[1m0s\u001b[0m 16ms/step - accuracy: 0.8679 - loss: 0.2869 - val_accuracy: 0.9500 - val_loss: 0.1758\n"
          ]
        }
      ]
    },
    {
      "cell_type": "code",
      "source": [
        "model.get_weights()"
      ],
      "metadata": {
        "colab": {
          "base_uri": "https://localhost:8080/"
        },
        "id": "8K2E1Z5Oupj_",
        "outputId": "6e5666de-c87d-47e2-ccaf-2494d093f988"
      },
      "execution_count": 17,
      "outputs": [
        {
          "output_type": "execute_result",
          "data": {
            "text/plain": [
              "[array([[-1.5617855 ,  0.4702963 ,  0.5784734 , -0.78264624,  0.7273646 ,\n",
              "          1.999966  ,  0.96284735, -0.2607757 , -1.3364586 ,  0.7787985 ],\n",
              "        [ 0.09189549,  1.1797714 , -0.29320234,  0.7511604 ,  1.2810708 ,\n",
              "         -0.10737245, -0.2552208 ,  1.8639812 ,  0.21917194,  0.39371696]],\n",
              "       dtype=float32),\n",
              " array([-0.1386142 ,  0.16495906,  0.08325059, -0.04725131, -0.00190709,\n",
              "         0.0828112 ,  0.02418802,  0.21387753, -0.09439712,  0.26195997],\n",
              "       dtype=float32),\n",
              " array([[-0.02190976, -0.0130399 ,  0.1420006 ,  0.19713885, -0.50314236,\n",
              "          0.43873897,  0.01603401,  0.4854695 , -0.09205317,  0.16594692],\n",
              "        [ 0.22040309,  0.6229242 ,  0.01219585,  0.26353574,  0.17007817,\n",
              "          0.08351619,  0.18746583, -0.4468106 ,  0.0297847 ,  0.4018931 ],\n",
              "        [-0.5650585 ,  0.3796523 ,  0.42611668,  0.31754535,  0.32501155,\n",
              "         -0.5082038 ,  0.0025297 ,  0.03028116, -0.53907466, -0.1541233 ],\n",
              "        [ 0.22474034, -0.5194944 ,  0.06306449,  0.07926232, -0.17457429,\n",
              "          0.28239718,  0.5426946 ,  0.52146184, -0.6055582 , -0.02503694],\n",
              "        [-0.13342966, -0.20161909,  0.11480846,  0.55379593, -0.34655297,\n",
              "          0.49861643,  0.2891422 , -0.22497469,  0.39032736,  0.269608  ],\n",
              "        [-0.07396827,  0.02001059, -0.13988118,  0.45427912, -0.6543028 ,\n",
              "          0.27230704,  0.18786497,  0.08249807,  0.502074  , -0.06853908],\n",
              "        [-0.14447103, -0.37149844, -0.02111961,  0.20608163, -0.13528511,\n",
              "         -0.10100802, -0.67864054, -0.05540863,  0.31971154,  0.2377342 ],\n",
              "        [-0.18367314,  0.29544884,  0.3502282 , -0.05230928,  0.5487542 ,\n",
              "          0.37889162,  0.33808178,  0.28482395, -0.7718808 ,  0.44775   ],\n",
              "        [-0.12103245, -0.11981348,  0.23670082,  0.31301516,  0.06079275,\n",
              "          0.7054649 ,  0.20722133, -0.10124938, -0.29711258,  0.24945998],\n",
              "        [-0.25258926,  0.08631091, -0.16610973,  0.518569  ,  0.40133962,\n",
              "          0.1439972 ,  0.36470783, -0.11446203, -0.00719308, -0.12653308]],\n",
              "       dtype=float32),\n",
              " array([ 0.        , -0.00371747, -0.09527328,  0.16788861,  0.23705173,\n",
              "        -0.06152598,  0.08816361, -0.08523206,  0.09259988,  0.086154  ],\n",
              "       dtype=float32),\n",
              " array([[-0.02167082, -0.3093568 , -0.12822543, -0.24089633, -0.1111275 ,\n",
              "          0.1473383 ,  0.272031  ,  0.68881977, -0.30328766,  0.46418935],\n",
              "        [ 0.36227617,  0.44409925, -0.15030557, -0.12612309,  0.10460736,\n",
              "          0.3429164 , -0.5570461 ,  0.00326958, -0.28039262, -0.652373  ],\n",
              "        [ 0.16309027,  0.2514346 , -0.01101269, -0.08990008, -0.24985626,\n",
              "          0.03367542,  0.34267798, -0.3108869 , -0.10667436,  0.09127773],\n",
              "        [ 0.16860825, -0.8603513 ,  0.41178218,  0.76488876, -0.10646763,\n",
              "         -0.48269695,  0.31066266,  0.41285232,  0.313776  , -0.46651906],\n",
              "        [-0.06014485, -0.22774431,  0.52749133, -0.28125417,  0.6774514 ,\n",
              "          0.4570197 ,  0.57402194,  0.34309465,  0.40795884,  0.3158349 ],\n",
              "        [ 0.6664041 ,  0.20335546, -0.48284903,  0.22434258, -0.14298013,\n",
              "         -0.45929363,  0.20761243, -0.58106554, -0.25119904,  0.6336873 ],\n",
              "        [ 0.5078638 , -0.32895264, -0.26010832, -0.41527689,  0.28010887,\n",
              "         -0.35524073,  0.15464883, -0.1848087 , -0.5940799 , -0.2049281 ],\n",
              "        [ 0.48351827, -0.100029  , -0.18368593,  0.55898446,  0.04592558,\n",
              "         -0.32604298,  0.14423653, -0.13296993,  0.30937552,  0.48524332],\n",
              "        [-0.18318442,  0.24086319,  0.8741707 ,  0.229932  , -0.36304975,\n",
              "         -0.21285965, -0.21642648,  0.12081997,  0.02160934, -0.06990267],\n",
              "        [ 1.0225693 , -0.2201083 , -0.54965705, -0.04637264, -0.05990103,\n",
              "         -0.12076854, -0.03497666, -0.28928065,  0.27146024, -0.22807701]],\n",
              "       dtype=float32),\n",
              " array([-0.00659206,  0.        ,  0.13394539,  0.10079297,  0.22551534,\n",
              "        -0.01515623,  0.17461412,  0.16607092,  0.17577802, -0.05115304],\n",
              "       dtype=float32),\n",
              " array([[-1.8329279e-01, -1.8338649e-01, -1.4443269e-01, -5.3401732e-01,\n",
              "          4.8586661e-01, -8.6698973e-01,  4.9297249e-01, -3.0547559e-01,\n",
              "          7.1784192e-01, -3.3706907e-02],\n",
              "        [ 2.6463336e-01,  1.7895661e-01,  1.3192870e-01, -1.1349395e-01,\n",
              "         -1.4925626e-01,  1.2055693e-01, -1.9448416e-01,  2.6980868e-01,\n",
              "         -1.5958177e-01,  6.3051343e-02],\n",
              "        [ 5.5690968e-01,  1.1169743e-01,  4.5426297e-01, -2.0867339e-01,\n",
              "         -2.6856095e-01,  2.4899153e-01, -5.6189984e-01,  3.0030954e-01,\n",
              "          6.1470189e-04,  7.0530999e-01],\n",
              "        [ 8.1536137e-02,  3.6905479e-01, -2.3632525e-01,  2.6856318e-01,\n",
              "          2.9796889e-01,  1.9215687e-01, -1.0820081e-02,  4.1763946e-02,\n",
              "          1.3313806e-01, -8.5986778e-02],\n",
              "        [ 7.1156329e-01, -7.2258033e-02, -1.5444027e-01,  1.7583580e-01,\n",
              "         -5.2329808e-01, -3.6174446e-01, -1.8976353e-01,  3.9221355e-01,\n",
              "         -2.1537872e-01,  1.6972357e-01],\n",
              "        [ 2.0259318e-01, -1.6685781e-01, -1.1128694e-01,  1.6402620e-01,\n",
              "          7.8750849e-02,  6.1179679e-02,  1.8134533e-01,  1.3172646e-01,\n",
              "         -3.3397961e-01, -8.7601411e-01],\n",
              "        [ 3.8136387e-01,  1.6235486e-01, -1.7467955e-01, -5.7392370e-02,\n",
              "          5.2487075e-01,  5.9092164e-01,  7.7658452e-02,  8.3326828e-01,\n",
              "          6.1690509e-01,  1.1837021e-01],\n",
              "        [ 1.8609771e-01,  8.8458961e-01, -4.8466742e-01, -1.4478230e-01,\n",
              "         -1.0197214e-01, -2.8254349e-02, -6.3754874e-03,  2.2130349e-01,\n",
              "         -2.5739855e-01,  7.0126021e-01],\n",
              "        [ 4.9090341e-01, -2.5694695e-01, -5.0837781e-02, -3.7504606e-02,\n",
              "         -5.8723652e-01, -3.7608147e-01, -1.6932936e-01,  4.2507634e-01,\n",
              "         -2.9558372e-01,  7.8389078e-02],\n",
              "        [-2.3194757e-01, -1.0251783e-01,  2.8840303e-01, -1.5770006e-01,\n",
              "          7.3297434e-02, -1.2477675e-01, -3.5933271e-01, -2.2943935e-01,\n",
              "          2.7667838e-01, -6.7590678e-01]], dtype=float32),\n",
              " array([ 0.12394226, -0.04288604, -0.03532032,  0.        ,  0.09831773,\n",
              "         0.07202644,  0.09760887,  0.11472531,  0.03188868,  0.24496153],\n",
              "       dtype=float32),\n",
              " array([[ 0.8213716 ],\n",
              "        [ 0.22525372],\n",
              "        [-0.26161602],\n",
              "        [ 0.5730079 ],\n",
              "        [-0.38736695],\n",
              "        [ 0.16774167],\n",
              "        [-0.23211224],\n",
              "        [ 0.25206763],\n",
              "        [-0.18709114],\n",
              "        [ 0.32019576]], dtype=float32),\n",
              " array([-0.04205374], dtype=float32)]"
            ]
          },
          "metadata": {},
          "execution_count": 17
        }
      ]
    },
    {
      "cell_type": "code",
      "source": [
        "from mlxtend.plotting import plot_decision_regions\n",
        "plot_decision_regions(X,y.astype('int'), clf=model, legend=2)"
      ],
      "metadata": {
        "colab": {
          "base_uri": "https://localhost:8080/",
          "height": 465
        },
        "id": "h2jKnSGeuuLY",
        "outputId": "546dd861-e66f-42a1-a3b8-d862f24536af"
      },
      "execution_count": 18,
      "outputs": [
        {
          "output_type": "stream",
          "name": "stdout",
          "text": [
            "\u001b[1m9600/9600\u001b[0m \u001b[32m━━━━━━━━━━━━━━━━━━━━\u001b[0m\u001b[37m\u001b[0m \u001b[1m13s\u001b[0m 1ms/step\n"
          ]
        },
        {
          "output_type": "execute_result",
          "data": {
            "text/plain": [
              "<Axes: >"
            ]
          },
          "metadata": {},
          "execution_count": 18
        },
        {
          "output_type": "display_data",
          "data": {
            "text/plain": [
              "<Figure size 640x480 with 1 Axes>"
            ],
            "image/png": "[encoded data removed]"
          },
          "metadata": {}
        }
      ]
    },
    {
      "cell_type": "code",
      "source": [
        "(np.random.randn(10,10)*0.01).min()"
      ],
      "metadata": {
        "colab": {
          "base_uri": "https://localhost:8080/"
        },
        "id": "6cQtO9mpuxLI",
        "outputId": "13058fc1-2889-4c69-ce1f-bd327734a06d"
      },
      "execution_count": 19,
      "outputs": [
        {
          "output_type": "execute_result",
          "data": {
            "text/plain": [
              "-0.02508494760629906"
            ]
          },
          "metadata": {},
          "execution_count": 19
        }
      ]
    },
    {
      "cell_type": "code",
      "source": [
        "(np.random.randn(10,10)*0.01).max()"
      ],
      "metadata": {
        "colab": {
          "base_uri": "https://localhost:8080/"
        },
        "id": "diiaUiL92T7H",
        "outputId": "72a7a87a-ff9b-4a6a-acc4-440e09c9dfb8"
      },
      "execution_count": 20,
      "outputs": [
        {
          "output_type": "execute_result",
          "data": {
            "text/plain": [
              "0.027500148269296337"
            ]
          },
          "metadata": {},
          "execution_count": 20
        }
      ]
    },
    {
      "cell_type": "code",
      "source": [],
      "metadata": {
        "id": "b2DJRNfI3BOE"
      },
      "execution_count": null,
      "outputs": []
    }
  ]
}